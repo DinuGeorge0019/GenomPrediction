{
 "cells": [
  {
   "cell_type": "code",
   "execution_count": 22,
   "metadata": {},
   "outputs": [],
   "source": [
    "import random\n",
    "\n",
    "# Set the global seed\n",
    "_GLOBAL_SEED = 42\n",
    "random.seed(_GLOBAL_SEED)"
   ]
  },
  {
   "cell_type": "code",
   "execution_count": 23,
   "metadata": {},
   "outputs": [],
   "source": [
    "import pandas as pd\n",
    "\n",
    "# Read the training dataset\n",
    "train_df = pd.read_csv('../_Dataset/train_dataset.csv')\n",
    "\n",
    "# Read the test dataset\n",
    "test_df = pd.read_csv('../_Dataset/test_dataset.csv')\n"
   ]
  },
  {
   "cell_type": "code",
   "execution_count": 24,
   "metadata": {},
   "outputs": [],
   "source": [
    "train_genetic_disorder_df = train_df.drop(\"disorder_subclass\", axis=1)\n",
    "test_genetic_disorder_df = test_df.drop(\"disorder_subclass\", axis=1)"
   ]
  },
  {
   "cell_type": "markdown",
   "metadata": {},
   "source": [
    "Format the dataset"
   ]
  },
  {
   "cell_type": "code",
   "execution_count": 25,
   "metadata": {},
   "outputs": [],
   "source": [
    "train_genetic_disorder_x = train_genetic_disorder_df.drop(\"genetic_disorder\",axis=1)\n",
    "train_genetic_disorder_y = train_genetic_disorder_df[\"genetic_disorder\"]\n",
    "\n",
    "test_genetic_disorder_x = test_genetic_disorder_df.drop(\"genetic_disorder\",axis=1)\n",
    "test_genetic_disorder_y = test_genetic_disorder_df[\"genetic_disorder\"]"
   ]
  },
  {
   "cell_type": "markdown",
   "metadata": {},
   "source": [
    "Normalize the dataset"
   ]
  },
  {
   "cell_type": "code",
   "execution_count": 26,
   "metadata": {},
   "outputs": [],
   "source": [
    "from sklearn.preprocessing import StandardScaler\n",
    "\n",
    "# Initialize the scaler\n",
    "scaler = StandardScaler()\n",
    "\n",
    "# Fit the scaler and transform the training data\n",
    "train_genetic_disorder_x = scaler.fit_transform(train_genetic_disorder_x)\n",
    "\n",
    "# Use the same scaler to transform the test data\n",
    "test_genetic_disorder_x = scaler.transform(test_genetic_disorder_x)"
   ]
  },
  {
   "cell_type": "markdown",
   "metadata": {},
   "source": [
    "Declare the models"
   ]
  },
  {
   "cell_type": "code",
   "execution_count": 44,
   "metadata": {},
   "outputs": [],
   "source": [
    "from sklearn.linear_model import LogisticRegression\n",
    "from sklearn.tree import DecisionTreeClassifier\n",
    "from sklearn.ensemble import RandomForestClassifier\n",
    "from sklearn.naive_bayes import GaussianNB\n",
    "from sklearn.ensemble import GradientBoostingClassifier\n",
    "from xgboost import XGBClassifier\n",
    "from sklearn.neighbors import KNeighborsClassifier\n",
    "from lightgbm import LGBMClassifier\n",
    "from sklearn.svm import SVC\n",
    "from catboost import CatBoostClassifier\n",
    "from sklearn.calibration import CalibratedClassifierCV\n",
    "\n",
    "logistic_regression_classifier = LogisticRegression(solver='newton-cg', random_state=_GLOBAL_SEED)\n",
    "kn_classifier = KNeighborsClassifier()\n",
    "decision_tree_classifier = DecisionTreeClassifier(random_state=_GLOBAL_SEED)\n",
    "gaussian_nb_classifier = GaussianNB()\n",
    "random_forest_classifier = RandomForestClassifier(random_state=_GLOBAL_SEED)\n",
    "gradient_boosting_classifier = GradientBoostingClassifier(random_state=_GLOBAL_SEED)\n",
    "xgb_classifier = XGBClassifier(random_state=_GLOBAL_SEED)\n",
    "lgb_classifier = LGBMClassifier(random_state=_GLOBAL_SEED)\n",
    "svc_classifier = SVC(decision_function_shape='ovo')\n",
    "catb_classifier = CatBoostClassifier(random_state=_GLOBAL_SEED, verbose=False)\n",
    "\n",
    "# Assuming catb_classifier is your CatBoostClassifier\n",
    "catb_classifier = CalibratedClassifierCV(catb_classifier, method='sigmoid', cv=5)"
   ]
  },
  {
   "cell_type": "markdown",
   "metadata": {},
   "source": [
    "Train the models on the genetic disorder training dataset"
   ]
  },
  {
   "cell_type": "code",
   "execution_count": 45,
   "metadata": {},
   "outputs": [
    {
     "name": "stdout",
     "output_type": "stream",
     "text": [
      "[LightGBM] [Info] Auto-choosing row-wise multi-threading, the overhead of testing was 0.001214 seconds.\n",
      "You can set `force_row_wise=true` to remove the overhead.\n",
      "And if memory is not enough, you can set `force_col_wise=true`.\n",
      "[LightGBM] [Info] Total Bins 720\n",
      "[LightGBM] [Info] Number of data points in the train set: 14437, number of used features: 29\n",
      "[LightGBM] [Info] Start training from score -0.674550\n",
      "[LightGBM] [Info] Start training from score -2.248456\n",
      "[LightGBM] [Info] Start training from score -0.954376\n"
     ]
    }
   ],
   "source": [
    "logistic_regression_classifier.fit(train_genetic_disorder_x, train_genetic_disorder_y)\n",
    "kn_classifier.fit(train_genetic_disorder_x, train_genetic_disorder_y)\n",
    "decision_tree_classifier.fit(train_genetic_disorder_x, train_genetic_disorder_y)\n",
    "gaussian_nb_classifier.fit(train_genetic_disorder_x, train_genetic_disorder_y)\n",
    "random_forest_classifier.fit(train_genetic_disorder_x, train_genetic_disorder_y)\n",
    "gradient_boosting_classifier.fit(train_genetic_disorder_x, train_genetic_disorder_y)\n",
    "xgb_classifier.fit(train_genetic_disorder_x, train_genetic_disorder_y)\n",
    "lgb_classifier.fit(train_genetic_disorder_x, train_genetic_disorder_y)\n",
    "svc_classifier.fit(train_genetic_disorder_x, train_genetic_disorder_y)\n",
    "catb_classifier.fit(train_genetic_disorder_x, train_genetic_disorder_y)\n",
    "\n",
    "models_collection = {\n",
    "    'Logistic Regression': logistic_regression_classifier, \n",
    "    'K-Nearest Neighbors': kn_classifier, \n",
    "    'Decision Tree': decision_tree_classifier, \n",
    "    'Gaussian Naive Bayes': gaussian_nb_classifier, \n",
    "    'Random Forest': random_forest_classifier, \n",
    "    'Gradient Boosting': gradient_boosting_classifier, \n",
    "    'XGBoost': xgb_classifier, \n",
    "    'LightGBM': lgb_classifier,\n",
    "    'Support Vector Classifier': svc_classifier,\n",
    "    'CatBoost': catb_classifier\n",
    "}"
   ]
  },
  {
   "cell_type": "code",
   "execution_count": 46,
   "metadata": {},
   "outputs": [],
   "source": [
    "from sklearn.metrics import accuracy_score, recall_score, mean_squared_error\n",
    "\n",
    "# Initialize an empty dictionary to store the results\n",
    "results = {}\n",
    "\n",
    "for model_name, model in models_collection.items():\n",
    "    # Make predictions on the test data\n",
    "    predictions = model.predict(test_genetic_disorder_x)\n",
    "    \n",
    "    # Calculate accuracy\n",
    "    accuracy = accuracy_score(test_genetic_disorder_y, predictions)\n",
    "    \n",
    "    # Calculate recall\n",
    "    recall = recall_score(test_genetic_disorder_y, predictions, average='weighted')\n",
    "    \n",
    "    # Calculate mean squared error\n",
    "    mse = mean_squared_error(test_genetic_disorder_y, predictions)\n",
    "    \n",
    "    # Store the results\n",
    "    results[model_name] = {'Accuracy': accuracy, 'Recall': recall, 'Mean Squared Error': mse}\n",
    "    \n",
    "# Sort the results by accuracy\n",
    "sorted_results = sorted(results.items(), key=lambda item: item[1]['Accuracy'], reverse=True)\n"
   ]
  },
  {
   "cell_type": "code",
   "execution_count": 47,
   "metadata": {},
   "outputs": [
    {
     "name": "stdout",
     "output_type": "stream",
     "text": [
      "---------------------------\n",
      "Model: CatBoost\n",
      "Accuracy: 0.779224376731302\n",
      "Recall: 0.779224376731302\n",
      "Mean Squared Error: 0.6952908587257618\n",
      "---------------------------\n",
      "---------------------------\n",
      "Model: LightGBM\n",
      "Accuracy: 0.7714681440443213\n",
      "Recall: 0.7714681440443213\n",
      "Mean Squared Error: 0.7263157894736842\n",
      "---------------------------\n",
      "---------------------------\n",
      "Model: XGBoost\n",
      "Accuracy: 0.7614958448753463\n",
      "Recall: 0.7614958448753463\n",
      "Mean Squared Error: 0.7595567867036012\n",
      "---------------------------\n",
      "---------------------------\n",
      "Model: Gradient Boosting\n",
      "Accuracy: 0.7576177285318559\n",
      "Recall: 0.7576177285318559\n",
      "Mean Squared Error: 0.788365650969529\n",
      "---------------------------\n",
      "---------------------------\n",
      "Model: Random Forest\n",
      "Accuracy: 0.7193905817174515\n",
      "Recall: 0.7193905817174515\n",
      "Mean Squared Error: 0.9047091412742382\n",
      "---------------------------\n",
      "---------------------------\n",
      "Model: Decision Tree\n",
      "Accuracy: 0.6836565096952909\n",
      "Recall: 0.6836565096952909\n",
      "Mean Squared Error: 0.9778393351800554\n",
      "---------------------------\n",
      "---------------------------\n",
      "Model: Support Vector Classifier\n",
      "Accuracy: 0.5847645429362881\n",
      "Recall: 0.5847645429362881\n",
      "Mean Squared Error: 1.3534626038781163\n",
      "---------------------------\n",
      "---------------------------\n",
      "Model: Gaussian Naive Bayes\n",
      "Accuracy: 0.5357340720221606\n",
      "Recall: 0.5357340720221606\n",
      "Mean Squared Error: 1.517174515235457\n",
      "---------------------------\n",
      "---------------------------\n",
      "Model: Logistic Regression\n",
      "Accuracy: 0.5321329639889196\n",
      "Recall: 0.5321329639889196\n",
      "Mean Squared Error: 1.5473684210526315\n",
      "---------------------------\n",
      "---------------------------\n",
      "Model: K-Nearest Neighbors\n",
      "Accuracy: 0.5022160664819945\n",
      "Recall: 0.5022160664819945\n",
      "Mean Squared Error: 1.618836565096953\n",
      "---------------------------\n"
     ]
    }
   ],
   "source": [
    "# Print the sorted results\n",
    "for model_name, metrics in sorted_results:\n",
    "    print(\"---------------------------\")\n",
    "    print(f\"Model: {model_name}\")\n",
    "    for metric_name, metric_value in metrics.items():\n",
    "        print(f\"{metric_name}: {metric_value}\")\n",
    "    print(\"---------------------------\")"
   ]
  },
  {
   "cell_type": "markdown",
   "metadata": {},
   "source": [
    "Use the top 4 models to create an ensemle model"
   ]
  },
  {
   "cell_type": "code",
   "execution_count": 50,
   "metadata": {},
   "outputs": [
    {
     "name": "stdout",
     "output_type": "stream",
     "text": [
      "[LightGBM] [Info] Auto-choosing col-wise multi-threading, the overhead of testing was 0.007048 seconds.\n",
      "You can set `force_col_wise=true` to remove the overhead.\n",
      "[LightGBM] [Info] Total Bins 720\n",
      "[LightGBM] [Info] Number of data points in the train set: 14437, number of used features: 29\n",
      "[LightGBM] [Info] Start training from score -0.674550\n",
      "[LightGBM] [Info] Start training from score -2.248456\n",
      "[LightGBM] [Info] Start training from score -0.954376\n",
      "Ensemble accuracy: 0.7797783933518005\n",
      "Ensemble recall: 0.7797783933518005\n",
      "Ensemble mean squared error: 0.6997229916897507\n"
     ]
    }
   ],
   "source": [
    "from sklearn.ensemble import VotingClassifier\n",
    "\n",
    "# Get the top 4 models\n",
    "top_4_models = sorted_results[:4]\n",
    "\n",
    "# Create a list of tuples where each tuple contains a model name and an estimator\n",
    "estimators = [(model_name, models_collection[model_name]) for model_name, _ in top_4_models]\n",
    "\n",
    "# Create the ensemble model\n",
    "ensemble = VotingClassifier(estimators=estimators, voting='soft')\n",
    "\n",
    "# Train the ensemble model\n",
    "ensemble.fit(train_genetic_disorder_x, train_genetic_disorder_y)\n",
    "\n",
    "# Make predictions on the test data\n",
    "ensemble_predictions = ensemble.predict(test_genetic_disorder_x)\n",
    "\n",
    "# Calculate and print the accuracy of the ensemble model\n",
    "ensemble_accuracy = accuracy_score(test_genetic_disorder_y, ensemble_predictions)\n",
    "\n",
    "# Calculate recall\n",
    "ensemble_recall = recall_score(test_genetic_disorder_y, ensemble_predictions, average='weighted')\n",
    "\n",
    "# Calculate mean squared error\n",
    "ensemble_mse = mean_squared_error(test_genetic_disorder_y, ensemble_predictions)\n",
    "\n",
    "print(f\"Ensemble accuracy: {ensemble_accuracy}\")\n",
    "print(f\"Ensemble recall: {ensemble_recall}\")\n",
    "print(f\"Ensemble mean squared error: {ensemble_mse}\")\n"
   ]
  }
 ],
 "metadata": {
  "kernelspec": {
   "display_name": "genom_prediction_venv",
   "language": "python",
   "name": "python3"
  },
  "language_info": {
   "codemirror_mode": {
    "name": "ipython",
    "version": 3
   },
   "file_extension": ".py",
   "mimetype": "text/x-python",
   "name": "python",
   "nbconvert_exporter": "python",
   "pygments_lexer": "ipython3",
   "version": "3.11.7"
  }
 },
 "nbformat": 4,
 "nbformat_minor": 2
}
